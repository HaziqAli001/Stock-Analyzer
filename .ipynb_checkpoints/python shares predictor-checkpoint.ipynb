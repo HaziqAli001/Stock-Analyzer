{
 "cells": [
  {
   "cell_type": "code",
   "execution_count": 6,
   "id": "1d913aab",
   "metadata": {},
   "outputs": [],
   "source": [
    "import numpy as np\n",
    "import pandas as pd\n",
    "import matplotlib.pyplot as plt\n",
    "from pandas_datareader import data\n",
    "import yfinance as yf"
   ]
  },
  {
   "cell_type": "code",
   "execution_count": 35,
   "id": "a34644f3",
   "metadata": {},
   "outputs": [],
   "source": [
    "start = '2010-01-01'\n",
    "end = '2021-12-31'\n",
    "data = yf.Ticker(\"TSLA\")\n",
    "new = data.history(start=start, end = end)"
   ]
  },
  {
   "cell_type": "code",
   "execution_count": 20,
   "id": "57f10fb4",
   "metadata": {},
   "outputs": [
    {
     "data": {
      "text/html": [
       "<div>\n",
       "<style scoped>\n",
       "    .dataframe tbody tr th:only-of-type {\n",
       "        vertical-align: middle;\n",
       "    }\n",
       "\n",
       "    .dataframe tbody tr th {\n",
       "        vertical-align: top;\n",
       "    }\n",
       "\n",
       "    .dataframe thead th {\n",
       "        text-align: right;\n",
       "    }\n",
       "</style>\n",
       "<table border=\"1\" class=\"dataframe\">\n",
       "  <thead>\n",
       "    <tr style=\"text-align: right;\">\n",
       "      <th></th>\n",
       "      <th>Open</th>\n",
       "      <th>High</th>\n",
       "      <th>Low</th>\n",
       "      <th>Close</th>\n",
       "      <th>Volume</th>\n",
       "      <th>Dividends</th>\n",
       "      <th>Stock Splits</th>\n",
       "    </tr>\n",
       "    <tr>\n",
       "      <th>Date</th>\n",
       "      <th></th>\n",
       "      <th></th>\n",
       "      <th></th>\n",
       "      <th></th>\n",
       "      <th></th>\n",
       "      <th></th>\n",
       "      <th></th>\n",
       "    </tr>\n",
       "  </thead>\n",
       "  <tbody>\n",
       "    <tr>\n",
       "      <th>2020-08-31 00:00:00-04:00</th>\n",
       "      <td>148.203339</td>\n",
       "      <td>166.713333</td>\n",
       "      <td>146.703339</td>\n",
       "      <td>166.106674</td>\n",
       "      <td>355123200</td>\n",
       "      <td>0.0</td>\n",
       "      <td>5.0</td>\n",
       "    </tr>\n",
       "  </tbody>\n",
       "</table>\n",
       "</div>"
      ],
      "text/plain": [
       "                                 Open        High         Low       Close  \\\n",
       "Date                                                                        \n",
       "2020-08-31 00:00:00-04:00  148.203339  166.713333  146.703339  166.106674   \n",
       "\n",
       "                              Volume  Dividends  Stock Splits  \n",
       "Date                                                           \n",
       "2020-08-31 00:00:00-04:00  355123200        0.0           5.0  "
      ]
     },
     "execution_count": 20,
     "metadata": {},
     "output_type": "execute_result"
    }
   ],
   "source": [
    "new[new['Stock Splits']>0]"
   ]
  },
  {
   "cell_type": "code",
   "execution_count": 34,
   "id": "3ce12b04",
   "metadata": {},
   "outputs": [
    {
     "data": {
      "text/html": [
       "<div>\n",
       "<style scoped>\n",
       "    .dataframe tbody tr th:only-of-type {\n",
       "        vertical-align: middle;\n",
       "    }\n",
       "\n",
       "    .dataframe tbody tr th {\n",
       "        vertical-align: top;\n",
       "    }\n",
       "\n",
       "    .dataframe thead th {\n",
       "        text-align: right;\n",
       "    }\n",
       "</style>\n",
       "<table border=\"1\" class=\"dataframe\">\n",
       "  <thead>\n",
       "    <tr style=\"text-align: right;\">\n",
       "      <th></th>\n",
       "      <th>index</th>\n",
       "      <th>Date</th>\n",
       "      <th>Open</th>\n",
       "      <th>High</th>\n",
       "      <th>Low</th>\n",
       "      <th>Close</th>\n",
       "      <th>Volume</th>\n",
       "      <th>Dividends</th>\n",
       "      <th>Stock Splits</th>\n",
       "    </tr>\n",
       "  </thead>\n",
       "  <tbody>\n",
       "    <tr>\n",
       "      <th>2859</th>\n",
       "      <td>2859</td>\n",
       "      <td>2021-11-04 00:00:00-04:00</td>\n",
       "      <td>411.470001</td>\n",
       "      <td>414.496674</td>\n",
       "      <td>405.666656</td>\n",
       "      <td>409.970001</td>\n",
       "      <td>76192200</td>\n",
       "      <td>0.0</td>\n",
       "      <td>0.0</td>\n",
       "    </tr>\n",
       "    <tr>\n",
       "      <th>2860</th>\n",
       "      <td>2860</td>\n",
       "      <td>2021-11-05 00:00:00-04:00</td>\n",
       "      <td>409.333344</td>\n",
       "      <td>413.290009</td>\n",
       "      <td>402.666656</td>\n",
       "      <td>407.363342</td>\n",
       "      <td>64886400</td>\n",
       "      <td>0.0</td>\n",
       "      <td>0.0</td>\n",
       "    </tr>\n",
       "    <tr>\n",
       "      <th>2858</th>\n",
       "      <td>2858</td>\n",
       "      <td>2021-11-03 00:00:00-04:00</td>\n",
       "      <td>392.443329</td>\n",
       "      <td>405.130005</td>\n",
       "      <td>384.206665</td>\n",
       "      <td>404.619995</td>\n",
       "      <td>103885500</td>\n",
       "      <td>0.0</td>\n",
       "      <td>0.0</td>\n",
       "    </tr>\n",
       "    <tr>\n",
       "      <th>2856</th>\n",
       "      <td>2856</td>\n",
       "      <td>2021-11-01 00:00:00-04:00</td>\n",
       "      <td>381.666656</td>\n",
       "      <td>403.250000</td>\n",
       "      <td>372.886658</td>\n",
       "      <td>402.863342</td>\n",
       "      <td>168146100</td>\n",
       "      <td>0.0</td>\n",
       "      <td>0.0</td>\n",
       "    </tr>\n",
       "    <tr>\n",
       "      <th>2857</th>\n",
       "      <td>2857</td>\n",
       "      <td>2021-11-02 00:00:00-04:00</td>\n",
       "      <td>386.453339</td>\n",
       "      <td>402.863342</td>\n",
       "      <td>382.000000</td>\n",
       "      <td>390.666656</td>\n",
       "      <td>128213400</td>\n",
       "      <td>0.0</td>\n",
       "      <td>0.0</td>\n",
       "    </tr>\n",
       "    <tr>\n",
       "      <th>...</th>\n",
       "      <td>...</td>\n",
       "      <td>...</td>\n",
       "      <td>...</td>\n",
       "      <td>...</td>\n",
       "      <td>...</td>\n",
       "      <td>...</td>\n",
       "      <td>...</td>\n",
       "      <td>...</td>\n",
       "      <td>...</td>\n",
       "    </tr>\n",
       "    <tr>\n",
       "      <th>8</th>\n",
       "      <td>8</td>\n",
       "      <td>2010-07-12 00:00:00-04:00</td>\n",
       "      <td>1.196667</td>\n",
       "      <td>1.204667</td>\n",
       "      <td>1.133333</td>\n",
       "      <td>1.136667</td>\n",
       "      <td>33037500</td>\n",
       "      <td>0.0</td>\n",
       "      <td>0.0</td>\n",
       "    </tr>\n",
       "    <tr>\n",
       "      <th>31</th>\n",
       "      <td>31</td>\n",
       "      <td>2010-08-12 00:00:00-04:00</td>\n",
       "      <td>1.186667</td>\n",
       "      <td>1.193333</td>\n",
       "      <td>1.159333</td>\n",
       "      <td>1.173333</td>\n",
       "      <td>10365000</td>\n",
       "      <td>0.0</td>\n",
       "      <td>0.0</td>\n",
       "    </tr>\n",
       "    <tr>\n",
       "      <th>7</th>\n",
       "      <td>7</td>\n",
       "      <td>2010-07-09 00:00:00-04:00</td>\n",
       "      <td>1.172000</td>\n",
       "      <td>1.193333</td>\n",
       "      <td>1.103333</td>\n",
       "      <td>1.160000</td>\n",
       "      <td>60759000</td>\n",
       "      <td>0.0</td>\n",
       "      <td>0.0</td>\n",
       "    </tr>\n",
       "    <tr>\n",
       "      <th>6</th>\n",
       "      <td>6</td>\n",
       "      <td>2010-07-08 00:00:00-04:00</td>\n",
       "      <td>1.076000</td>\n",
       "      <td>1.168000</td>\n",
       "      <td>1.038000</td>\n",
       "      <td>1.164000</td>\n",
       "      <td>115671000</td>\n",
       "      <td>0.0</td>\n",
       "      <td>0.0</td>\n",
       "    </tr>\n",
       "    <tr>\n",
       "      <th>5</th>\n",
       "      <td>5</td>\n",
       "      <td>2010-07-07 00:00:00-04:00</td>\n",
       "      <td>1.093333</td>\n",
       "      <td>1.108667</td>\n",
       "      <td>0.998667</td>\n",
       "      <td>1.053333</td>\n",
       "      <td>103825500</td>\n",
       "      <td>0.0</td>\n",
       "      <td>0.0</td>\n",
       "    </tr>\n",
       "  </tbody>\n",
       "</table>\n",
       "<p>2898 rows × 9 columns</p>\n",
       "</div>"
      ],
      "text/plain": [
       "      index                      Date        Open        High         Low  \\\n",
       "2859   2859 2021-11-04 00:00:00-04:00  411.470001  414.496674  405.666656   \n",
       "2860   2860 2021-11-05 00:00:00-04:00  409.333344  413.290009  402.666656   \n",
       "2858   2858 2021-11-03 00:00:00-04:00  392.443329  405.130005  384.206665   \n",
       "2856   2856 2021-11-01 00:00:00-04:00  381.666656  403.250000  372.886658   \n",
       "2857   2857 2021-11-02 00:00:00-04:00  386.453339  402.863342  382.000000   \n",
       "...     ...                       ...         ...         ...         ...   \n",
       "8         8 2010-07-12 00:00:00-04:00    1.196667    1.204667    1.133333   \n",
       "31       31 2010-08-12 00:00:00-04:00    1.186667    1.193333    1.159333   \n",
       "7         7 2010-07-09 00:00:00-04:00    1.172000    1.193333    1.103333   \n",
       "6         6 2010-07-08 00:00:00-04:00    1.076000    1.168000    1.038000   \n",
       "5         5 2010-07-07 00:00:00-04:00    1.093333    1.108667    0.998667   \n",
       "\n",
       "           Close     Volume  Dividends  Stock Splits  \n",
       "2859  409.970001   76192200        0.0           0.0  \n",
       "2860  407.363342   64886400        0.0           0.0  \n",
       "2858  404.619995  103885500        0.0           0.0  \n",
       "2856  402.863342  168146100        0.0           0.0  \n",
       "2857  390.666656  128213400        0.0           0.0  \n",
       "...          ...        ...        ...           ...  \n",
       "8       1.136667   33037500        0.0           0.0  \n",
       "31      1.173333   10365000        0.0           0.0  \n",
       "7       1.160000   60759000        0.0           0.0  \n",
       "6       1.164000  115671000        0.0           0.0  \n",
       "5       1.053333  103825500        0.0           0.0  \n",
       "\n",
       "[2898 rows x 9 columns]"
      ]
     },
     "execution_count": 34,
     "metadata": {},
     "output_type": "execute_result"
    }
   ],
   "source": [
    "new.sort_values('High',ascending=False)"
   ]
  },
  {
   "cell_type": "code",
   "execution_count": 37,
   "id": "13083d0f",
   "metadata": {},
   "outputs": [
    {
     "data": {
      "text/plain": [
       "[<matplotlib.lines.Line2D at 0x1b6f7f88130>]"
      ]
     },
     "execution_count": 37,
     "metadata": {},
     "output_type": "execute_result"
    },
    {
     "data": {
      "image/png": "[encoded data removed]",
      "text/plain": [
       "<Figure size 640x480 with 1 Axes>"
      ]
     },
     "metadata": {},
     "output_type": "display_data"
    }
   ],
   "source": [
    "plt.plot(new['Close'])"
   ]
  },
  {
   "cell_type": "code",
   "execution_count": 40,
   "id": "9958680d",
   "metadata": {},
   "outputs": [],
   "source": [
    "mean200 = new['Close'].rolling(200).mean()\n",
    "mean100 = new['Close'].rolling(100).mean()"
   ]
  },
  {
   "cell_type": "code",
   "execution_count": 50,
   "id": "53e041da",
   "metadata": {},
   "outputs": [
    {
     "data": {
      "image/png": "[encoded data removed]",
      "text/plain": [
       "<Figure size 1400x600 with 1 Axes>"
      ]
     },
     "metadata": {},
     "output_type": "display_data"
    }
   ],
   "source": [
    "plt.figure(figsize=(14,6))\n",
    "plt.plot(new['Close'],label=\"Price\",animated=True,snap=True)\n",
    "plt.plot(mean100,'red',label=\"100 Days moving average\",animated=True,snap=True)\n",
    "plt.plot(mean200,'black',label=\"200 Days moving average\",animated=True,snap=True)\n",
    "plt.legend(\"Tesla details\")\n",
    "plt.show()"
   ]
  },
  {
   "cell_type": "code",
   "execution_count": null,
   "id": "eea08c5a",
   "metadata": {},
   "outputs": [],
   "source": []
  },
  {
   "cell_type": "code",
   "execution_count": null,
   "id": "4703c5a0",
   "metadata": {},
   "outputs": [],
   "source": []
  }
 ],
 "metadata": {
  "kernelspec": {
   "display_name": "Python 3 (ipykernel)",
   "language": "python",
   "name": "python3"
  },
  "language_info": {
   "codemirror_mode": {
    "name": "ipython",
    "version": 3
   },
   "file_extension": ".py",
   "mimetype": "text/x-python",
   "name": "python",
   "nbconvert_exporter": "python",
   "pygments_lexer": "ipython3",
   "version": "3.9.13"
  }
 },
 "nbformat": 4,
 "nbformat_minor": 5
}
